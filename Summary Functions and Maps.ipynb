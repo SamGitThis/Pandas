{
 "cells": [
  {
   "cell_type": "code",
   "execution_count": 1,
   "id": "05dccb09",
   "metadata": {},
   "outputs": [],
   "source": [
    "import pandas as pd"
   ]
  },
  {
   "cell_type": "code",
   "execution_count": 2,
   "id": "521bf94d",
   "metadata": {},
   "outputs": [
    {
     "data": {
      "text/html": [
       "<div>\n",
       "<style scoped>\n",
       "    .dataframe tbody tr th:only-of-type {\n",
       "        vertical-align: middle;\n",
       "    }\n",
       "\n",
       "    .dataframe tbody tr th {\n",
       "        vertical-align: top;\n",
       "    }\n",
       "\n",
       "    .dataframe thead th {\n",
       "        text-align: right;\n",
       "    }\n",
       "</style>\n",
       "<table border=\"1\" class=\"dataframe\">\n",
       "  <thead>\n",
       "    <tr style=\"text-align: right;\">\n",
       "      <th></th>\n",
       "      <th>Name</th>\n",
       "      <th>Department</th>\n",
       "      <th>Semester</th>\n",
       "      <th>GPA</th>\n",
       "      <th>USN</th>\n",
       "    </tr>\n",
       "  </thead>\n",
       "  <tbody>\n",
       "    <tr>\n",
       "      <th>0</th>\n",
       "      <td>Sam</td>\n",
       "      <td>DS</td>\n",
       "      <td>2</td>\n",
       "      <td>8.80</td>\n",
       "      <td>120.0</td>\n",
       "    </tr>\n",
       "    <tr>\n",
       "      <th>1</th>\n",
       "      <td>John</td>\n",
       "      <td>CSE</td>\n",
       "      <td>2</td>\n",
       "      <td>6.50</td>\n",
       "      <td>130.0</td>\n",
       "    </tr>\n",
       "    <tr>\n",
       "      <th>2</th>\n",
       "      <td>Cris</td>\n",
       "      <td>ISC</td>\n",
       "      <td>4</td>\n",
       "      <td>4.40</td>\n",
       "      <td>140.0</td>\n",
       "    </tr>\n",
       "    <tr>\n",
       "      <th>3</th>\n",
       "      <td>Johnny</td>\n",
       "      <td>DS</td>\n",
       "      <td>4</td>\n",
       "      <td>9.00</td>\n",
       "      <td>150.0</td>\n",
       "    </tr>\n",
       "    <tr>\n",
       "      <th>4</th>\n",
       "      <td>Ron</td>\n",
       "      <td>DS</td>\n",
       "      <td>4</td>\n",
       "      <td>3.02</td>\n",
       "      <td>160.0</td>\n",
       "    </tr>\n",
       "    <tr>\n",
       "      <th>5</th>\n",
       "      <td>Ginny</td>\n",
       "      <td>DS</td>\n",
       "      <td>2</td>\n",
       "      <td>5.23</td>\n",
       "      <td>170.0</td>\n",
       "    </tr>\n",
       "    <tr>\n",
       "      <th>6</th>\n",
       "      <td>Fred</td>\n",
       "      <td>DS</td>\n",
       "      <td>8</td>\n",
       "      <td>4.50</td>\n",
       "      <td>180.0</td>\n",
       "    </tr>\n",
       "    <tr>\n",
       "      <th>7</th>\n",
       "      <td>Jon</td>\n",
       "      <td>CSE</td>\n",
       "      <td>8</td>\n",
       "      <td>6.70</td>\n",
       "      <td>NaN</td>\n",
       "    </tr>\n",
       "  </tbody>\n",
       "</table>\n",
       "</div>"
      ],
      "text/plain": [
       "     Name Department  Semester   GPA    USN\n",
       "0     Sam         DS         2  8.80  120.0\n",
       "1    John        CSE         2  6.50  130.0\n",
       "2    Cris        ISC         4  4.40  140.0\n",
       "3  Johnny         DS         4  9.00  150.0\n",
       "4     Ron         DS         4  3.02  160.0\n",
       "5   Ginny         DS         2  5.23  170.0\n",
       "6    Fred         DS         8  4.50  180.0\n",
       "7     Jon        CSE         8  6.70    NaN"
      ]
     },
     "execution_count": 2,
     "metadata": {},
     "output_type": "execute_result"
    }
   ],
   "source": [
    "df = pd.read_csv(\"C:\\Sample.csv\")\n",
    "df"
   ]
  },
  {
   "cell_type": "code",
   "execution_count": 7,
   "id": "1b05cdc7",
   "metadata": {},
   "outputs": [
    {
     "data": {
      "text/plain": [
       "count    8.000000\n",
       "mean     6.018750\n",
       "std      2.133424\n",
       "min      3.020000\n",
       "25%      4.475000\n",
       "50%      5.865000\n",
       "75%      7.225000\n",
       "max      9.000000\n",
       "Name: GPA, dtype: float64"
      ]
     },
     "execution_count": 7,
     "metadata": {},
     "output_type": "execute_result"
    }
   ],
   "source": [
    "df.GPA.describe()"
   ]
  },
  {
   "cell_type": "code",
   "execution_count": 8,
   "id": "9d871cfa",
   "metadata": {},
   "outputs": [
    {
     "data": {
      "text/plain": [
       "6.018750000000001"
      ]
     },
     "execution_count": 8,
     "metadata": {},
     "output_type": "execute_result"
    }
   ],
   "source": [
    "df.GPA.mean()"
   ]
  },
  {
   "cell_type": "code",
   "execution_count": 12,
   "id": "e3163568",
   "metadata": {},
   "outputs": [
    {
     "data": {
      "text/plain": [
       "array(['DS', 'CSE', 'ISC'], dtype=object)"
      ]
     },
     "execution_count": 12,
     "metadata": {},
     "output_type": "execute_result"
    }
   ],
   "source": [
    "df.Department.unique()"
   ]
  },
  {
   "cell_type": "code",
   "execution_count": 14,
   "id": "c2641b5e",
   "metadata": {},
   "outputs": [
    {
     "data": {
      "text/plain": [
       "DS     5\n",
       "CSE    2\n",
       "ISC    1\n",
       "Name: Department, dtype: int64"
      ]
     },
     "execution_count": 14,
     "metadata": {},
     "output_type": "execute_result"
    }
   ],
   "source": [
    "df.Department.value_counts()"
   ]
  },
  {
   "cell_type": "code",
   "execution_count": 15,
   "id": "38c850ba",
   "metadata": {},
   "outputs": [
    {
     "data": {
      "text/plain": [
       "0    2.78125\n",
       "1    0.48125\n",
       "2   -1.61875\n",
       "3    2.98125\n",
       "4   -2.99875\n",
       "5   -0.78875\n",
       "6   -1.51875\n",
       "7    0.68125\n",
       "Name: GPA, dtype: float64"
      ]
     },
     "execution_count": 15,
     "metadata": {},
     "output_type": "execute_result"
    }
   ],
   "source": [
    "GPA_mean = df.GPA.mean()\n",
    "df.GPA.map(lambda p: p - GPA_mean)"
   ]
  },
  {
   "cell_type": "code",
   "execution_count": null,
   "id": "dda22ba1",
   "metadata": {},
   "outputs": [],
   "source": []
  }
 ],
 "metadata": {
  "kernelspec": {
   "display_name": "Python 3 (ipykernel)",
   "language": "python",
   "name": "python3"
  },
  "language_info": {
   "codemirror_mode": {
    "name": "ipython",
    "version": 3
   },
   "file_extension": ".py",
   "mimetype": "text/x-python",
   "name": "python",
   "nbconvert_exporter": "python",
   "pygments_lexer": "ipython3",
   "version": "3.9.13"
  }
 },
 "nbformat": 4,
 "nbformat_minor": 5
}
