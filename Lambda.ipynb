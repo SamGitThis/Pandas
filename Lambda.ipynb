{
 "cells": [
  {
   "cell_type": "code",
   "execution_count": 1,
   "id": "3c5e748a",
   "metadata": {},
   "outputs": [
    {
     "name": "stdout",
     "output_type": "stream",
     "text": [
      "4\n"
     ]
    }
   ],
   "source": [
    "double = lambda x: x*2\n",
    "print(double(2))"
   ]
  },
  {
   "cell_type": "code",
   "execution_count": 2,
   "id": "3ecccab6",
   "metadata": {},
   "outputs": [
    {
     "name": "stdout",
     "output_type": "stream",
     "text": [
      "91125\n"
     ]
    }
   ],
   "source": [
    "cube = lambda x: x*x*x\n",
    "print(cube(45))"
   ]
  },
  {
   "cell_type": "code",
   "execution_count": 8,
   "id": "39de7675",
   "metadata": {},
   "outputs": [
    {
     "name": "stdout",
     "output_type": "stream",
     "text": [
      "30\n"
     ]
    }
   ],
   "source": [
    "def complex(fx, x):\n",
    "    return(x + fx(x))\n",
    "\n",
    "print(complex(cube, 3))"
   ]
  },
  {
   "cell_type": "code",
   "execution_count": null,
   "id": "0b9be494",
   "metadata": {},
   "outputs": [],
   "source": []
  }
 ],
 "metadata": {
  "kernelspec": {
   "display_name": "Python 3 (ipykernel)",
   "language": "python",
   "name": "python3"
  },
  "language_info": {
   "codemirror_mode": {
    "name": "ipython",
    "version": 3
   },
   "file_extension": ".py",
   "mimetype": "text/x-python",
   "name": "python",
   "nbconvert_exporter": "python",
   "pygments_lexer": "ipython3",
   "version": "3.9.13"
  }
 },
 "nbformat": 4,
 "nbformat_minor": 5
}
